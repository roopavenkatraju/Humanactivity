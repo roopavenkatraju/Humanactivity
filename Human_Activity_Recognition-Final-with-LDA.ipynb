{
 "cells": [
  {
   "cell_type": "markdown",
   "metadata": {},
   "source": [
    "<div class=\"alert alert-block alert-info\" align=left><b></b>\n",
    "Human Activity Recognition"
   ]
  },
  {
   "cell_type": "code",
   "execution_count": 1,
   "metadata": {},
   "outputs": [],
   "source": [
    "import pandas as pd\n",
    "import numpy as np\n",
    "import matplotlib.pyplot as plt\n",
    "plt.style.use('ggplot')\n",
    "%matplotlib inline\n",
    "import seaborn as sns\n",
    "import os"
   ]
  },
  {
   "cell_type": "code",
   "execution_count": 2,
   "metadata": {},
   "outputs": [],
   "source": [
    "os.chdir(\"C:\\\\Users\\\\user\\\\Desktop\\\\deep\\\\UCI HAR Dataset\")"
   ]
  },
  {
   "cell_type": "code",
   "execution_count": 3,
   "metadata": {},
   "outputs": [
    {
     "data": {
      "text/plain": [
       "'C:\\\\Users\\\\user\\\\Desktop\\\\deep\\\\UCI HAR Dataset'"
      ]
     },
     "execution_count": 3,
     "metadata": {},
     "output_type": "execute_result"
    }
   ],
   "source": [
    "os.getcwd()"
   ]
  },
  {
   "cell_type": "code",
   "execution_count": 4,
   "metadata": {
    "scrolled": false
   },
   "outputs": [],
   "source": [
    "data = pd.read_csv('X_train.txt',sep = \"\\t\",header = None)\n",
    "data1 = pd.read_csv('y_train.txt',sep = \"\\t\",header = None)\n",
    "data2 = pd.read_csv('X_test.txt',sep = \"\\t\",header = None)\n",
    "data3 = pd.read_csv('y_test.txt',sep = \"\\t\",header = None)\n",
    "#subject_train  = pd.read_csv('subject_train.txt',header = None)\n",
    "#subject_test = pd.read_csv('subject_test.txt',header = None)"
   ]
  },
  {
   "cell_type": "code",
   "execution_count": 5,
   "metadata": {},
   "outputs": [],
   "source": [
    "X_tra = [[float(number) for number in data[0].iloc[line].split()] for line in range(len(data))]\n",
    "X_te = [[float(number) for number in data2[0].iloc[line].split()] for line in range(len(data2))]\n",
    "X_tr = pd.DataFrame(X_tra)\n",
    "X_ts = pd.DataFrame(X_te)"
   ]
  },
  {
   "cell_type": "code",
   "execution_count": 6,
   "metadata": {},
   "outputs": [],
   "source": [
    "features = pd.read_csv('features.txt',sep = \"\\t\",header = None)\n",
    "features['col_name'] = str(0)\n",
    "for i in range(len(features)):\n",
    "    words = features[0].iloc[i].split()\n",
    "    features['col_name'].iloc[i] = words[1]"
   ]
  },
  {
   "cell_type": "code",
   "execution_count": 7,
   "metadata": {},
   "outputs": [],
   "source": [
    "Features = features.drop([0], axis=1)"
   ]
  },
  {
   "cell_type": "code",
   "execution_count": 8,
   "metadata": {},
   "outputs": [
    {
     "name": "stdout",
     "output_type": "stream",
     "text": [
      "X_train :  (7352, 561)\n",
      "X_test :  (2947, 561)\n"
     ]
    }
   ],
   "source": [
    "X_tr.columns = X_tr.columns[:0].tolist() + Features['col_name'].values.tolist()\n",
    "X_ts.columns = X_ts.columns[:0].tolist() + Features['col_name'].values.tolist()\n",
    "X_train = X_tr\n",
    "X_test = X_ts\n",
    "print(\"X_train : \",X_train.shape)\n",
    "print(\"X_test : \",X_test.shape)"
   ]
  },
  {
   "cell_type": "code",
   "execution_count": 9,
   "metadata": {},
   "outputs": [
    {
     "name": "stdout",
     "output_type": "stream",
     "text": [
      "y_train :  (7352, 1)\n",
      "y_test :  (2947, 1)\n"
     ]
    }
   ],
   "source": [
    "y_train = data1.rename(columns = {0:\"Activity\"})\n",
    "y_test = data3.rename(columns = {0:\"Activity\"})\n",
    "print(\"y_train : \",y_train.shape)\n",
    "print(\"y_test : \",y_test.shape)"
   ]
  },
  {
   "cell_type": "code",
   "execution_count": 10,
   "metadata": {},
   "outputs": [
    {
     "name": "stdout",
     "output_type": "stream",
     "text": [
      "X_train :  (7352, 561)\n",
      "X_test :  (2947, 561)\n",
      "y_train :  (7352, 1)\n",
      "y_test :  (2947, 1)\n"
     ]
    }
   ],
   "source": [
    "# sub_train = subject_train.rename(columns = {0:'Subject'})\n",
    "# sub_test = subject_test.rename(columns = {0:'Subject'})\n",
    "# X_train['Subject'] = sub_train\n",
    "# X_test['Subject'] = sub_test\n",
    "print(\"X_train : \",X_train.shape)\n",
    "print(\"X_test : \",X_test.shape)\n",
    "print(\"y_train : \",y_train.shape)\n",
    "print(\"y_test : \",y_test.shape)"
   ]
  },
  {
   "cell_type": "code",
   "execution_count": 11,
   "metadata": {},
   "outputs": [
    {
     "data": {
      "text/html": [
       "<div>\n",
       "<style scoped>\n",
       "    .dataframe tbody tr th:only-of-type {\n",
       "        vertical-align: middle;\n",
       "    }\n",
       "\n",
       "    .dataframe tbody tr th {\n",
       "        vertical-align: top;\n",
       "    }\n",
       "\n",
       "    .dataframe thead th {\n",
       "        text-align: right;\n",
       "    }\n",
       "</style>\n",
       "<table border=\"1\" class=\"dataframe\">\n",
       "  <thead>\n",
       "    <tr style=\"text-align: right;\">\n",
       "      <th></th>\n",
       "      <th>Activity</th>\n",
       "    </tr>\n",
       "  </thead>\n",
       "  <tbody>\n",
       "    <tr>\n",
       "      <th>0</th>\n",
       "      <td>5</td>\n",
       "    </tr>\n",
       "    <tr>\n",
       "      <th>1</th>\n",
       "      <td>5</td>\n",
       "    </tr>\n",
       "    <tr>\n",
       "      <th>2</th>\n",
       "      <td>5</td>\n",
       "    </tr>\n",
       "    <tr>\n",
       "      <th>3</th>\n",
       "      <td>5</td>\n",
       "    </tr>\n",
       "    <tr>\n",
       "      <th>4</th>\n",
       "      <td>5</td>\n",
       "    </tr>\n",
       "  </tbody>\n",
       "</table>\n",
       "</div>"
      ],
      "text/plain": [
       "   Activity\n",
       "0         5\n",
       "1         5\n",
       "2         5\n",
       "3         5\n",
       "4         5"
      ]
     },
     "execution_count": 11,
     "metadata": {},
     "output_type": "execute_result"
    }
   ],
   "source": [
    "y_train.head()"
   ]
  },
  {
   "cell_type": "code",
   "execution_count": 12,
   "metadata": {},
   "outputs": [
    {
     "data": {
      "text/plain": [
       "Activity    int64\n",
       "dtype: object"
      ]
     },
     "execution_count": 12,
     "metadata": {},
     "output_type": "execute_result"
    }
   ],
   "source": [
    "y_train.dtypes"
   ]
  },
  {
   "cell_type": "code",
   "execution_count": 13,
   "metadata": {},
   "outputs": [],
   "source": [
    "y_train.Activity.replace([1,2,3,4,5,6],['WALKING','WALKING_UPSTAIRS','WALKING_DOWNSTAIRS','SITTING','STANDING','LAYING'],inplace=True)\n",
    "y_test.Activity.replace([1,2,3,4,5,6],['WALKING','WALKING_UPSTAIRS','WALKING_DOWNSTAIRS','SITTING','STANDING','LAYING'],inplace=True)"
   ]
  },
  {
   "cell_type": "code",
   "execution_count": 14,
   "metadata": {},
   "outputs": [
    {
     "data": {
      "text/html": [
       "<div>\n",
       "<style scoped>\n",
       "    .dataframe tbody tr th:only-of-type {\n",
       "        vertical-align: middle;\n",
       "    }\n",
       "\n",
       "    .dataframe tbody tr th {\n",
       "        vertical-align: top;\n",
       "    }\n",
       "\n",
       "    .dataframe thead th {\n",
       "        text-align: right;\n",
       "    }\n",
       "</style>\n",
       "<table border=\"1\" class=\"dataframe\">\n",
       "  <thead>\n",
       "    <tr style=\"text-align: right;\">\n",
       "      <th></th>\n",
       "      <th>Activity</th>\n",
       "    </tr>\n",
       "  </thead>\n",
       "  <tbody>\n",
       "    <tr>\n",
       "      <th>0</th>\n",
       "      <td>STANDING</td>\n",
       "    </tr>\n",
       "    <tr>\n",
       "      <th>1</th>\n",
       "      <td>STANDING</td>\n",
       "    </tr>\n",
       "    <tr>\n",
       "      <th>2</th>\n",
       "      <td>STANDING</td>\n",
       "    </tr>\n",
       "    <tr>\n",
       "      <th>3</th>\n",
       "      <td>STANDING</td>\n",
       "    </tr>\n",
       "    <tr>\n",
       "      <th>4</th>\n",
       "      <td>STANDING</td>\n",
       "    </tr>\n",
       "  </tbody>\n",
       "</table>\n",
       "</div>"
      ],
      "text/plain": [
       "   Activity\n",
       "0  STANDING\n",
       "1  STANDING\n",
       "2  STANDING\n",
       "3  STANDING\n",
       "4  STANDING"
      ]
     },
     "execution_count": 14,
     "metadata": {},
     "output_type": "execute_result"
    }
   ],
   "source": [
    "y_train.head()"
   ]
  },
  {
   "cell_type": "code",
   "execution_count": 15,
   "metadata": {},
   "outputs": [],
   "source": [
    "train = pd.concat([X_train,y_train],axis = 1)\n",
    "test = pd.concat([X_test,y_test],axis = 1)"
   ]
  },
  {
   "cell_type": "code",
   "execution_count": 16,
   "metadata": {},
   "outputs": [
    {
     "name": "stdout",
     "output_type": "stream",
     "text": [
      "Train Shape :  (7352, 562)\n",
      "Test Shape :  (2947, 562)\n"
     ]
    }
   ],
   "source": [
    "print('Train Shape : ',train.shape)\n",
    "print('Test Shape : ',test.shape)"
   ]
  },
  {
   "cell_type": "code",
   "execution_count": 17,
   "metadata": {},
   "outputs": [
    {
     "data": {
      "text/plain": [
       "LAYING                1407\n",
       "STANDING              1374\n",
       "SITTING               1286\n",
       "WALKING               1226\n",
       "WALKING_UPSTAIRS      1073\n",
       "WALKING_DOWNSTAIRS     986\n",
       "Name: Activity, dtype: int64"
      ]
     },
     "execution_count": 17,
     "metadata": {},
     "output_type": "execute_result"
    }
   ],
   "source": [
    "train.Activity.value_counts()"
   ]
  },
  {
   "cell_type": "code",
   "execution_count": 18,
   "metadata": {},
   "outputs": [
    {
     "data": {
      "text/html": [
       "<div>\n",
       "<style scoped>\n",
       "    .dataframe tbody tr th:only-of-type {\n",
       "        vertical-align: middle;\n",
       "    }\n",
       "\n",
       "    .dataframe tbody tr th {\n",
       "        vertical-align: top;\n",
       "    }\n",
       "\n",
       "    .dataframe thead th {\n",
       "        text-align: right;\n",
       "    }\n",
       "</style>\n",
       "<table border=\"1\" class=\"dataframe\">\n",
       "  <thead>\n",
       "    <tr style=\"text-align: right;\">\n",
       "      <th></th>\n",
       "      <th>tBodyAcc-mean()-X</th>\n",
       "      <th>tBodyAcc-mean()-Y</th>\n",
       "      <th>tBodyAcc-mean()-Z</th>\n",
       "      <th>tBodyAcc-std()-X</th>\n",
       "      <th>tBodyAcc-std()-Y</th>\n",
       "      <th>tBodyAcc-std()-Z</th>\n",
       "      <th>tBodyAcc-mad()-X</th>\n",
       "      <th>tBodyAcc-mad()-Y</th>\n",
       "      <th>tBodyAcc-mad()-Z</th>\n",
       "      <th>tBodyAcc-max()-X</th>\n",
       "      <th>...</th>\n",
       "      <th>fBodyBodyGyroJerkMag-meanFreq()</th>\n",
       "      <th>fBodyBodyGyroJerkMag-skewness()</th>\n",
       "      <th>fBodyBodyGyroJerkMag-kurtosis()</th>\n",
       "      <th>angle(tBodyAccMean,gravity)</th>\n",
       "      <th>angle(tBodyAccJerkMean),gravityMean)</th>\n",
       "      <th>angle(tBodyGyroMean,gravityMean)</th>\n",
       "      <th>angle(tBodyGyroJerkMean,gravityMean)</th>\n",
       "      <th>angle(X,gravityMean)</th>\n",
       "      <th>angle(Y,gravityMean)</th>\n",
       "      <th>angle(Z,gravityMean)</th>\n",
       "    </tr>\n",
       "  </thead>\n",
       "  <tbody>\n",
       "    <tr>\n",
       "      <th>count</th>\n",
       "      <td>7352.000000</td>\n",
       "      <td>7352.000000</td>\n",
       "      <td>7352.000000</td>\n",
       "      <td>7352.000000</td>\n",
       "      <td>7352.000000</td>\n",
       "      <td>7352.000000</td>\n",
       "      <td>7352.000000</td>\n",
       "      <td>7352.000000</td>\n",
       "      <td>7352.000000</td>\n",
       "      <td>7352.000000</td>\n",
       "      <td>...</td>\n",
       "      <td>7352.000000</td>\n",
       "      <td>7352.000000</td>\n",
       "      <td>7352.000000</td>\n",
       "      <td>7352.000000</td>\n",
       "      <td>7352.000000</td>\n",
       "      <td>7352.000000</td>\n",
       "      <td>7352.000000</td>\n",
       "      <td>7352.000000</td>\n",
       "      <td>7352.000000</td>\n",
       "      <td>7352.000000</td>\n",
       "    </tr>\n",
       "    <tr>\n",
       "      <th>mean</th>\n",
       "      <td>0.274488</td>\n",
       "      <td>-0.017695</td>\n",
       "      <td>-0.109141</td>\n",
       "      <td>-0.605438</td>\n",
       "      <td>-0.510938</td>\n",
       "      <td>-0.604754</td>\n",
       "      <td>-0.630512</td>\n",
       "      <td>-0.526907</td>\n",
       "      <td>-0.606150</td>\n",
       "      <td>-0.468604</td>\n",
       "      <td>...</td>\n",
       "      <td>0.125293</td>\n",
       "      <td>-0.307009</td>\n",
       "      <td>-0.625294</td>\n",
       "      <td>0.008684</td>\n",
       "      <td>0.002186</td>\n",
       "      <td>0.008726</td>\n",
       "      <td>-0.005981</td>\n",
       "      <td>-0.489547</td>\n",
       "      <td>0.058593</td>\n",
       "      <td>-0.056515</td>\n",
       "    </tr>\n",
       "    <tr>\n",
       "      <th>std</th>\n",
       "      <td>0.070261</td>\n",
       "      <td>0.040811</td>\n",
       "      <td>0.056635</td>\n",
       "      <td>0.448734</td>\n",
       "      <td>0.502645</td>\n",
       "      <td>0.418687</td>\n",
       "      <td>0.424073</td>\n",
       "      <td>0.485942</td>\n",
       "      <td>0.414122</td>\n",
       "      <td>0.544547</td>\n",
       "      <td>...</td>\n",
       "      <td>0.250994</td>\n",
       "      <td>0.321011</td>\n",
       "      <td>0.307584</td>\n",
       "      <td>0.336787</td>\n",
       "      <td>0.448306</td>\n",
       "      <td>0.608303</td>\n",
       "      <td>0.477975</td>\n",
       "      <td>0.511807</td>\n",
       "      <td>0.297480</td>\n",
       "      <td>0.279122</td>\n",
       "    </tr>\n",
       "    <tr>\n",
       "      <th>min</th>\n",
       "      <td>-1.000000</td>\n",
       "      <td>-1.000000</td>\n",
       "      <td>-1.000000</td>\n",
       "      <td>-1.000000</td>\n",
       "      <td>-0.999873</td>\n",
       "      <td>-1.000000</td>\n",
       "      <td>-1.000000</td>\n",
       "      <td>-1.000000</td>\n",
       "      <td>-1.000000</td>\n",
       "      <td>-1.000000</td>\n",
       "      <td>...</td>\n",
       "      <td>-1.000000</td>\n",
       "      <td>-0.995357</td>\n",
       "      <td>-0.999765</td>\n",
       "      <td>-0.976580</td>\n",
       "      <td>-1.000000</td>\n",
       "      <td>-1.000000</td>\n",
       "      <td>-1.000000</td>\n",
       "      <td>-1.000000</td>\n",
       "      <td>-1.000000</td>\n",
       "      <td>-1.000000</td>\n",
       "    </tr>\n",
       "    <tr>\n",
       "      <th>25%</th>\n",
       "      <td>0.262975</td>\n",
       "      <td>-0.024863</td>\n",
       "      <td>-0.120993</td>\n",
       "      <td>-0.992754</td>\n",
       "      <td>-0.978129</td>\n",
       "      <td>-0.980233</td>\n",
       "      <td>-0.993591</td>\n",
       "      <td>-0.978162</td>\n",
       "      <td>-0.980251</td>\n",
       "      <td>-0.936219</td>\n",
       "      <td>...</td>\n",
       "      <td>-0.023692</td>\n",
       "      <td>-0.542602</td>\n",
       "      <td>-0.845573</td>\n",
       "      <td>-0.121527</td>\n",
       "      <td>-0.289549</td>\n",
       "      <td>-0.482273</td>\n",
       "      <td>-0.376341</td>\n",
       "      <td>-0.812065</td>\n",
       "      <td>-0.017885</td>\n",
       "      <td>-0.143414</td>\n",
       "    </tr>\n",
       "    <tr>\n",
       "      <th>50%</th>\n",
       "      <td>0.277193</td>\n",
       "      <td>-0.017219</td>\n",
       "      <td>-0.108676</td>\n",
       "      <td>-0.946196</td>\n",
       "      <td>-0.851897</td>\n",
       "      <td>-0.859365</td>\n",
       "      <td>-0.950709</td>\n",
       "      <td>-0.857328</td>\n",
       "      <td>-0.857143</td>\n",
       "      <td>-0.881637</td>\n",
       "      <td>...</td>\n",
       "      <td>0.134000</td>\n",
       "      <td>-0.343685</td>\n",
       "      <td>-0.711692</td>\n",
       "      <td>0.009509</td>\n",
       "      <td>0.008943</td>\n",
       "      <td>0.008735</td>\n",
       "      <td>-0.000368</td>\n",
       "      <td>-0.709417</td>\n",
       "      <td>0.182071</td>\n",
       "      <td>0.003181</td>\n",
       "    </tr>\n",
       "    <tr>\n",
       "      <th>75%</th>\n",
       "      <td>0.288461</td>\n",
       "      <td>-0.010783</td>\n",
       "      <td>-0.097794</td>\n",
       "      <td>-0.242813</td>\n",
       "      <td>-0.034231</td>\n",
       "      <td>-0.262415</td>\n",
       "      <td>-0.292680</td>\n",
       "      <td>-0.066701</td>\n",
       "      <td>-0.265671</td>\n",
       "      <td>-0.017129</td>\n",
       "      <td>...</td>\n",
       "      <td>0.289096</td>\n",
       "      <td>-0.126979</td>\n",
       "      <td>-0.503878</td>\n",
       "      <td>0.150865</td>\n",
       "      <td>0.292861</td>\n",
       "      <td>0.506187</td>\n",
       "      <td>0.359368</td>\n",
       "      <td>-0.509079</td>\n",
       "      <td>0.248353</td>\n",
       "      <td>0.107659</td>\n",
       "    </tr>\n",
       "    <tr>\n",
       "      <th>max</th>\n",
       "      <td>1.000000</td>\n",
       "      <td>1.000000</td>\n",
       "      <td>1.000000</td>\n",
       "      <td>1.000000</td>\n",
       "      <td>0.916238</td>\n",
       "      <td>1.000000</td>\n",
       "      <td>1.000000</td>\n",
       "      <td>0.967664</td>\n",
       "      <td>1.000000</td>\n",
       "      <td>1.000000</td>\n",
       "      <td>...</td>\n",
       "      <td>0.946700</td>\n",
       "      <td>0.989538</td>\n",
       "      <td>0.956845</td>\n",
       "      <td>1.000000</td>\n",
       "      <td>1.000000</td>\n",
       "      <td>0.998702</td>\n",
       "      <td>0.996078</td>\n",
       "      <td>1.000000</td>\n",
       "      <td>0.478157</td>\n",
       "      <td>1.000000</td>\n",
       "    </tr>\n",
       "  </tbody>\n",
       "</table>\n",
       "<p>8 rows × 561 columns</p>\n",
       "</div>"
      ],
      "text/plain": [
       "       tBodyAcc-mean()-X  tBodyAcc-mean()-Y  tBodyAcc-mean()-Z  \\\n",
       "count        7352.000000        7352.000000        7352.000000   \n",
       "mean            0.274488          -0.017695          -0.109141   \n",
       "std             0.070261           0.040811           0.056635   \n",
       "min            -1.000000          -1.000000          -1.000000   \n",
       "25%             0.262975          -0.024863          -0.120993   \n",
       "50%             0.277193          -0.017219          -0.108676   \n",
       "75%             0.288461          -0.010783          -0.097794   \n",
       "max             1.000000           1.000000           1.000000   \n",
       "\n",
       "       tBodyAcc-std()-X  tBodyAcc-std()-Y  tBodyAcc-std()-Z  tBodyAcc-mad()-X  \\\n",
       "count       7352.000000       7352.000000       7352.000000       7352.000000   \n",
       "mean          -0.605438         -0.510938         -0.604754         -0.630512   \n",
       "std            0.448734          0.502645          0.418687          0.424073   \n",
       "min           -1.000000         -0.999873         -1.000000         -1.000000   \n",
       "25%           -0.992754         -0.978129         -0.980233         -0.993591   \n",
       "50%           -0.946196         -0.851897         -0.859365         -0.950709   \n",
       "75%           -0.242813         -0.034231         -0.262415         -0.292680   \n",
       "max            1.000000          0.916238          1.000000          1.000000   \n",
       "\n",
       "       tBodyAcc-mad()-Y  tBodyAcc-mad()-Z  tBodyAcc-max()-X  ...  \\\n",
       "count       7352.000000       7352.000000       7352.000000  ...   \n",
       "mean          -0.526907         -0.606150         -0.468604  ...   \n",
       "std            0.485942          0.414122          0.544547  ...   \n",
       "min           -1.000000         -1.000000         -1.000000  ...   \n",
       "25%           -0.978162         -0.980251         -0.936219  ...   \n",
       "50%           -0.857328         -0.857143         -0.881637  ...   \n",
       "75%           -0.066701         -0.265671         -0.017129  ...   \n",
       "max            0.967664          1.000000          1.000000  ...   \n",
       "\n",
       "       fBodyBodyGyroJerkMag-meanFreq()  fBodyBodyGyroJerkMag-skewness()  \\\n",
       "count                      7352.000000                      7352.000000   \n",
       "mean                          0.125293                        -0.307009   \n",
       "std                           0.250994                         0.321011   \n",
       "min                          -1.000000                        -0.995357   \n",
       "25%                          -0.023692                        -0.542602   \n",
       "50%                           0.134000                        -0.343685   \n",
       "75%                           0.289096                        -0.126979   \n",
       "max                           0.946700                         0.989538   \n",
       "\n",
       "       fBodyBodyGyroJerkMag-kurtosis()  angle(tBodyAccMean,gravity)  \\\n",
       "count                      7352.000000                  7352.000000   \n",
       "mean                         -0.625294                     0.008684   \n",
       "std                           0.307584                     0.336787   \n",
       "min                          -0.999765                    -0.976580   \n",
       "25%                          -0.845573                    -0.121527   \n",
       "50%                          -0.711692                     0.009509   \n",
       "75%                          -0.503878                     0.150865   \n",
       "max                           0.956845                     1.000000   \n",
       "\n",
       "       angle(tBodyAccJerkMean),gravityMean)  angle(tBodyGyroMean,gravityMean)  \\\n",
       "count                           7352.000000                       7352.000000   \n",
       "mean                               0.002186                          0.008726   \n",
       "std                                0.448306                          0.608303   \n",
       "min                               -1.000000                         -1.000000   \n",
       "25%                               -0.289549                         -0.482273   \n",
       "50%                                0.008943                          0.008735   \n",
       "75%                                0.292861                          0.506187   \n",
       "max                                1.000000                          0.998702   \n",
       "\n",
       "       angle(tBodyGyroJerkMean,gravityMean)  angle(X,gravityMean)  \\\n",
       "count                           7352.000000           7352.000000   \n",
       "mean                              -0.005981             -0.489547   \n",
       "std                                0.477975              0.511807   \n",
       "min                               -1.000000             -1.000000   \n",
       "25%                               -0.376341             -0.812065   \n",
       "50%                               -0.000368             -0.709417   \n",
       "75%                                0.359368             -0.509079   \n",
       "max                                0.996078              1.000000   \n",
       "\n",
       "       angle(Y,gravityMean)  angle(Z,gravityMean)  \n",
       "count           7352.000000           7352.000000  \n",
       "mean               0.058593             -0.056515  \n",
       "std                0.297480              0.279122  \n",
       "min               -1.000000             -1.000000  \n",
       "25%               -0.017885             -0.143414  \n",
       "50%                0.182071              0.003181  \n",
       "75%                0.248353              0.107659  \n",
       "max                0.478157              1.000000  \n",
       "\n",
       "[8 rows x 561 columns]"
      ]
     },
     "execution_count": 18,
     "metadata": {},
     "output_type": "execute_result"
    }
   ],
   "source": [
    "train.describe()"
   ]
  },
  {
   "cell_type": "code",
   "execution_count": 19,
   "metadata": {},
   "outputs": [
    {
     "data": {
      "image/png": "[encoded data removed]",
      "text/plain": [
       "<Figure size 432x288 with 1 Axes>"
      ]
     },
     "metadata": {
      "needs_background": "light"
     },
     "output_type": "display_data"
    }
   ],
   "source": [
    "ax = sns.countplot(y = train['Activity'])\n",
    "ax.set_title('Distribution of Labels')\n",
    "plt.show()"
   ]
  },
  {
   "cell_type": "code",
   "execution_count": 20,
   "metadata": {},
   "outputs": [
    {
     "name": "stdout",
     "output_type": "stream",
     "text": [
      "X_train :  (7352, 561)\n",
      "y_train :  (7352,)\n"
     ]
    }
   ],
   "source": [
    "y_train=train['Activity']\n",
    "X_train=train.drop('Activity',axis=1)\n",
    "print('X_train : ',X_train.shape)\n",
    "print('y_train : ',y_train.shape)"
   ]
  },
  {
   "cell_type": "code",
   "execution_count": 21,
   "metadata": {},
   "outputs": [
    {
     "name": "stdout",
     "output_type": "stream",
     "text": [
      "X_test :  (2947, 561)\n",
      "y_test :  (2947,)\n"
     ]
    }
   ],
   "source": [
    "y_test=test['Activity']\n",
    "X_test=test.drop('Activity',axis=1)\n",
    "print('X_test : ',X_test.shape)\n",
    "print('y_test : ',y_test.shape)"
   ]
  },
  {
   "cell_type": "code",
   "execution_count": 22,
   "metadata": {},
   "outputs": [],
   "source": [
    "from sklearn.preprocessing import StandardScaler\n",
    "sc = StandardScaler()\n",
    "X_train = sc.fit_transform(X_train)\n",
    "X_test = sc.transform(X_test)"
   ]
  },
  {
   "cell_type": "markdown",
   "metadata": {},
   "source": [
    "### Applying LDA"
   ]
  },
  {
   "cell_type": "code",
   "execution_count": 23,
   "metadata": {},
   "outputs": [
    {
     "name": "stderr",
     "output_type": "stream",
     "text": [
      "C:\\Users\\user\\Anaconda3\\envs\\py36\\lib\\site-packages\\sklearn\\discriminant_analysis.py:388: UserWarning: Variables are collinear.\n",
      "  warnings.warn(\"Variables are collinear.\")\n"
     ]
    }
   ],
   "source": [
    "from sklearn.discriminant_analysis import LinearDiscriminantAnalysis as LDA\n",
    "lda = LDA(n_components = None)\n",
    "X_train = lda.fit_transform(X_train,y_train)\n",
    "X_test = lda.transform(X_test)"
   ]
  },
  {
   "cell_type": "code",
   "execution_count": 24,
   "metadata": {},
   "outputs": [],
   "source": [
    "lda_var_ratios = lda.explained_variance_ratio_"
   ]
  },
  {
   "cell_type": "code",
   "execution_count": 25,
   "metadata": {},
   "outputs": [
    {
     "data": {
      "text/plain": [
       "array([0.73179996, 0.17624642, 0.05461643, 0.02824873, 0.00908846])"
      ]
     },
     "execution_count": 25,
     "metadata": {},
     "output_type": "execute_result"
    }
   ],
   "source": [
    "lda_var_ratios"
   ]
  },
  {
   "cell_type": "code",
   "execution_count": 26,
   "metadata": {},
   "outputs": [
    {
     "data": {
      "text/html": [
       "<div>\n",
       "<style scoped>\n",
       "    .dataframe tbody tr th:only-of-type {\n",
       "        vertical-align: middle;\n",
       "    }\n",
       "\n",
       "    .dataframe tbody tr th {\n",
       "        vertical-align: top;\n",
       "    }\n",
       "\n",
       "    .dataframe thead th {\n",
       "        text-align: right;\n",
       "    }\n",
       "</style>\n",
       "<table border=\"1\" class=\"dataframe\">\n",
       "  <thead>\n",
       "    <tr style=\"text-align: right;\">\n",
       "      <th></th>\n",
       "      <th>lda1</th>\n",
       "      <th>lda2</th>\n",
       "      <th>lda3</th>\n",
       "      <th>lda4</th>\n",
       "      <th>lda5</th>\n",
       "    </tr>\n",
       "  </thead>\n",
       "  <tbody>\n",
       "    <tr>\n",
       "      <th>0</th>\n",
       "      <td>-10.131303</td>\n",
       "      <td>-8.600555</td>\n",
       "      <td>0.521162</td>\n",
       "      <td>1.090378</td>\n",
       "      <td>4.051475</td>\n",
       "    </tr>\n",
       "    <tr>\n",
       "      <th>1</th>\n",
       "      <td>-9.774950</td>\n",
       "      <td>-6.967300</td>\n",
       "      <td>0.392349</td>\n",
       "      <td>-0.467446</td>\n",
       "      <td>2.314259</td>\n",
       "    </tr>\n",
       "    <tr>\n",
       "      <th>2</th>\n",
       "      <td>-9.767446</td>\n",
       "      <td>-7.145707</td>\n",
       "      <td>-0.195444</td>\n",
       "      <td>0.005705</td>\n",
       "      <td>3.795791</td>\n",
       "    </tr>\n",
       "    <tr>\n",
       "      <th>3</th>\n",
       "      <td>-9.745219</td>\n",
       "      <td>-8.133894</td>\n",
       "      <td>0.168621</td>\n",
       "      <td>-0.064691</td>\n",
       "      <td>1.886819</td>\n",
       "    </tr>\n",
       "    <tr>\n",
       "      <th>4</th>\n",
       "      <td>-8.886116</td>\n",
       "      <td>-7.619552</td>\n",
       "      <td>0.569457</td>\n",
       "      <td>-0.345804</td>\n",
       "      <td>2.563435</td>\n",
       "    </tr>\n",
       "  </tbody>\n",
       "</table>\n",
       "</div>"
      ],
      "text/plain": [
       "        lda1      lda2      lda3      lda4      lda5\n",
       "0 -10.131303 -8.600555  0.521162  1.090378  4.051475\n",
       "1  -9.774950 -6.967300  0.392349 -0.467446  2.314259\n",
       "2  -9.767446 -7.145707 -0.195444  0.005705  3.795791\n",
       "3  -9.745219 -8.133894  0.168621 -0.064691  1.886819\n",
       "4  -8.886116 -7.619552  0.569457 -0.345804  2.563435"
      ]
     },
     "execution_count": 26,
     "metadata": {},
     "output_type": "execute_result"
    }
   ],
   "source": [
    "X_train1 = pd.DataFrame(X_train, columns=['lda1', 'lda2', 'lda3', 'lda4', 'lda5'])\n",
    "X_train1.head()"
   ]
  },
  {
   "cell_type": "code",
   "execution_count": 60,
   "metadata": {},
   "outputs": [
    {
     "data": {
      "text/plain": [
       "Index(['lda1', 'lda2', 'lda3', 'lda4', 'lda5'], dtype='object')"
      ]
     },
     "execution_count": 60,
     "metadata": {},
     "output_type": "execute_result"
    }
   ],
   "source": [
    "X_train1.columns"
   ]
  },
  {
   "cell_type": "code",
   "execution_count": 86,
   "metadata": {},
   "outputs": [],
   "source": [
    "labels = train['Activity']"
   ]
  },
  {
   "cell_type": "code",
   "execution_count": 87,
   "metadata": {},
   "outputs": [
    {
     "data": {
      "text/plain": [
       "6    1407\n",
       "5    1374\n",
       "4    1286\n",
       "1    1226\n",
       "2    1073\n",
       "3     986\n",
       "Name: Activity, dtype: int64"
      ]
     },
     "execution_count": 87,
     "metadata": {},
     "output_type": "execute_result"
    }
   ],
   "source": [
    "labels.value_counts()"
   ]
  },
  {
   "cell_type": "code",
   "execution_count": 102,
   "metadata": {},
   "outputs": [
    {
     "data": {
      "text/plain": [
       "<matplotlib.legend.Legend at 0x34acc9e8>"
      ]
     },
     "execution_count": 102,
     "metadata": {},
     "output_type": "execute_result"
    },
    {
     "data": {
      "image/png": "[encoded data removed]",
      "text/plain": [
       "<Figure size 432x288 with 1 Axes>"
      ]
     },
     "metadata": {
      "needs_background": "light"
     },
     "output_type": "display_data"
    }
   ],
   "source": [
    "plt.xlabel('LD1')\n",
    "plt.ylabel('LD2')\n",
    "plt.scatter(X_train1['lda1'],X_train1['lda2'],c=labels,cmap='rainbow',alpha=0.7,edgecolors='b')\n",
    "plt.legend(labels)"
   ]
  },
  {
   "cell_type": "code",
   "execution_count": 24,
   "metadata": {},
   "outputs": [
    {
     "name": "stdout",
     "output_type": "stream",
     "text": [
      "Random_Forest_Tuned : _Train_Accuracy : 0.9870783460282916\n",
      "Random_Forest_Tuned : _Test_Accuracy : 0.9606379368849678\n",
      "Duration: 0:01:03.454630\n",
      "--------------------------------------------------\n",
      "Xg_boost : _Train_Accuracy : 0.9912948857453754\n",
      "Xg_boost : _Test_Accuracy : 0.9538513742789277\n",
      "Duration: 0:00:06.451369\n",
      "--------------------------------------------------\n",
      "Bagging Classifier : _Train_Accuracy : 0.9990478781284005\n",
      "Bagging Classifier : _Test_Accuracy : 0.9626739056667798\n",
      "Duration: 0:00:00.353020\n",
      "--------------------------------------------------\n",
      "Support Vector Machines_Tuned : _Train_Accuracy : 0.9870783460282916\n",
      "Support Vector Machines_Tuned : _Test_Accuracy : 0.9643705463182898\n",
      "Duration: 0:00:48.078750\n",
      "--------------------------------------------------\n"
     ]
    }
   ],
   "source": [
    "from sklearn.metrics import confusion_matrix,accuracy_score\n",
    "from sklearn.tree import DecisionTreeClassifier\n",
    "from sklearn.ensemble import RandomForestClassifier,BaggingClassifier\n",
    "from xgboost import XGBClassifier\n",
    "from sklearn.svm import SVC\n",
    "from sklearn.model_selection import GridSearchCV\n",
    "from datetime import datetime\n",
    "\n",
    "sv = SVC()\n",
    "rf = RandomForestClassifier()\n",
    "\n",
    "param_grid_rf = {\"n_estimators\": [30,50,60],\n",
    "                 \"max_depth\": [2,3,5,7],\n",
    "                 \"min_samples_leaf\": [2, 4]}\n",
    "\n",
    "param_grid_sv = {'kernel': ['rbf','linear'], \n",
    "                  'gamma': [1e-3, 1e-4],\n",
    "                  'C'    : [1, 10, 100, 1000]}\n",
    "\n",
    "classifiers = [['Random_Forest_Tuned : ',GridSearchCV(rf,param_grid=param_grid_rf,cv=5,scoring='accuracy')],\n",
    "               ['Xg_boost : ',XGBClassifier()],\n",
    "               ['Bagging Classifier : ',BaggingClassifier()],\n",
    "               ['Support Vector Machines_Tuned : ',GridSearchCV(sv,param_grid=param_grid_sv,cv=5,scoring='accuracy')]]\n",
    "\n",
    "# class_predictions = []\n",
    "for name,model in classifiers:\n",
    "    model=model\n",
    "    start_time = datetime.now()\n",
    "    model.fit(X_train,y_train)\n",
    "    predictions = model.predict(X_train)\n",
    "    predictions1 = model.predict(X_test)\n",
    "#   class_predictions.append(accuracy_score(y_test,predictions))\n",
    "    print(f'{name}_Train_Accuracy :',accuracy_score(y_train,predictions))\n",
    "    print(f'{name}_Test_Accuracy :',accuracy_score(y_test,predictions1))\n",
    "    end_time = datetime.now()\n",
    "    print('Duration: {}'.format(end_time - start_time))\n",
    "    print('--------------------------------------------------')"
   ]
  },
  {
   "cell_type": "markdown",
   "metadata": {},
   "source": [
    "#### OneHotEncoding for y_train and y_test"
   ]
  },
  {
   "cell_type": "code",
   "execution_count": 23,
   "metadata": {},
   "outputs": [],
   "source": [
    "X_train = pd.DataFrame(X_train)\n",
    "X_test = pd.DataFrame(X_test)"
   ]
  },
  {
   "cell_type": "code",
   "execution_count": 24,
   "metadata": {},
   "outputs": [
    {
     "data": {
      "text/plain": [
       "(2947, 5)"
      ]
     },
     "execution_count": 24,
     "metadata": {},
     "output_type": "execute_result"
    }
   ],
   "source": [
    "X_test.shape"
   ]
  },
  {
   "cell_type": "code",
   "execution_count": 25,
   "metadata": {},
   "outputs": [],
   "source": [
    "y_train = pd.get_dummies(y_train)\n",
    "y_test = pd.get_dummies(y_test)"
   ]
  },
  {
   "cell_type": "code",
   "execution_count": 26,
   "metadata": {},
   "outputs": [
    {
     "name": "stderr",
     "output_type": "stream",
     "text": [
      "Using TensorFlow backend.\n"
     ]
    },
    {
     "name": "stdout",
     "output_type": "stream",
     "text": [
      "WARNING:tensorflow:From C:\\ProgramData\\Anaconda3\\lib\\site-packages\\tensorflow\\python\\framework\\op_def_library.py:263: colocate_with (from tensorflow.python.framework.ops) is deprecated and will be removed in a future version.\n",
      "Instructions for updating:\n",
      "Colocations handled automatically by placer.\n",
      "WARNING:tensorflow:From C:\\ProgramData\\Anaconda3\\lib\\site-packages\\keras\\backend\\tensorflow_backend.py:3445: calling dropout (from tensorflow.python.ops.nn_ops) with keep_prob is deprecated and will be removed in a future version.\n",
      "Instructions for updating:\n",
      "Please use `rate` instead of `keep_prob`. Rate should be set to `rate = 1 - keep_prob`.\n"
     ]
    }
   ],
   "source": [
    "from keras.models import Sequential\n",
    "from keras.layers import Dense, Dropout,BatchNormalization\n",
    "from keras.optimizers import SGD\n",
    "model = Sequential()\n",
    "model.add(Dense(64,activation='relu',input_dim=5))\n",
    "model.add(Dropout(0.5))\n",
    "model.add(Dense(64, activation='relu'))\n",
    "model.add(Dropout(0.5))\n",
    "model.add(Dense(6, activation='softmax'))\n",
    "sgd = SGD(lr=0.01, decay=1e-6, momentum=0.9, nesterov=True)\n",
    "model.compile(loss='categorical_crossentropy',optimizer=sgd,metrics=['accuracy'])"
   ]
  },
  {
   "cell_type": "code",
   "execution_count": 27,
   "metadata": {},
   "outputs": [
    {
     "name": "stdout",
     "output_type": "stream",
     "text": [
      "_________________________________________________________________\n",
      "Layer (type)                 Output Shape              Param #   \n",
      "=================================================================\n",
      "dense_1 (Dense)              (None, 64)                384       \n",
      "_________________________________________________________________\n",
      "dropout_1 (Dropout)          (None, 64)                0         \n",
      "_________________________________________________________________\n",
      "dense_2 (Dense)              (None, 64)                4160      \n",
      "_________________________________________________________________\n",
      "dropout_2 (Dropout)          (None, 64)                0         \n",
      "_________________________________________________________________\n",
      "dense_3 (Dense)              (None, 6)                 390       \n",
      "=================================================================\n",
      "Total params: 4,934\n",
      "Trainable params: 4,934\n",
      "Non-trainable params: 0\n",
      "_________________________________________________________________\n"
     ]
    }
   ],
   "source": [
    "model.summary()"
   ]
  },
  {
   "cell_type": "code",
   "execution_count": 28,
   "metadata": {},
   "outputs": [
    {
     "name": "stdout",
     "output_type": "stream",
     "text": [
      "WARNING:tensorflow:From C:\\ProgramData\\Anaconda3\\lib\\site-packages\\tensorflow\\python\\ops\\math_ops.py:3066: to_int32 (from tensorflow.python.ops.math_ops) is deprecated and will be removed in a future version.\n",
      "Instructions for updating:\n",
      "Use tf.cast instead.\n",
      "Train on 7352 samples, validate on 2947 samples\n",
      "Epoch 1/50\n",
      "7352/7352 [==============================] - 2s 318us/step - loss: 0.7118 - acc: 0.7848 - val_loss: 0.1087 - val_acc: 0.9623\n",
      "Epoch 2/50\n",
      "7352/7352 [==============================] - 0s 26us/step - loss: 0.1557 - acc: 0.9486 - val_loss: 0.1099 - val_acc: 0.9613\n",
      "Epoch 3/50\n",
      "7352/7352 [==============================] - 0s 26us/step - loss: 0.1161 - acc: 0.9657 - val_loss: 0.1187 - val_acc: 0.9610\n",
      "Epoch 4/50\n",
      "7352/7352 [==============================] - 0s 26us/step - loss: 0.1048 - acc: 0.9672 - val_loss: 0.1082 - val_acc: 0.9654\n",
      "Epoch 5/50\n",
      "7352/7352 [==============================] - 0s 26us/step - loss: 0.0927 - acc: 0.9687 - val_loss: 0.1212 - val_acc: 0.9627\n",
      "Epoch 6/50\n",
      "7352/7352 [==============================] - 0s 26us/step - loss: 0.0842 - acc: 0.9723 - val_loss: 0.1234 - val_acc: 0.9617\n",
      "Epoch 7/50\n",
      "7352/7352 [==============================] - 0s 26us/step - loss: 0.0821 - acc: 0.9733 - val_loss: 0.1214 - val_acc: 0.9620\n",
      "Epoch 8/50\n",
      "7352/7352 [==============================] - 0s 26us/step - loss: 0.0788 - acc: 0.9740 - val_loss: 0.1281 - val_acc: 0.9620\n",
      "Epoch 9/50\n",
      "7352/7352 [==============================] - 0s 27us/step - loss: 0.0781 - acc: 0.9762 - val_loss: 0.1251 - val_acc: 0.9654\n",
      "Epoch 10/50\n",
      "7352/7352 [==============================] - 0s 26us/step - loss: 0.0687 - acc: 0.9782 - val_loss: 0.1232 - val_acc: 0.9661\n",
      "Epoch 11/50\n",
      "7352/7352 [==============================] - 0s 26us/step - loss: 0.0728 - acc: 0.9750 - val_loss: 0.1310 - val_acc: 0.9644\n",
      "Epoch 12/50\n",
      "7352/7352 [==============================] - 0s 28us/step - loss: 0.0696 - acc: 0.9786 - val_loss: 0.1428 - val_acc: 0.9603\n",
      "Epoch 13/50\n",
      "7352/7352 [==============================] - 0s 28us/step - loss: 0.0623 - acc: 0.9814 - val_loss: 0.1406 - val_acc: 0.9617\n",
      "Epoch 14/50\n",
      "7352/7352 [==============================] - 0s 27us/step - loss: 0.0614 - acc: 0.9796 - val_loss: 0.1421 - val_acc: 0.9627\n",
      "Epoch 15/50\n",
      "7352/7352 [==============================] - 0s 28us/step - loss: 0.0650 - acc: 0.9781 - val_loss: 0.1367 - val_acc: 0.9647\n",
      "Epoch 16/50\n",
      "7352/7352 [==============================] - 0s 31us/step - loss: 0.0662 - acc: 0.9788 - val_loss: 0.1308 - val_acc: 0.9627\n",
      "Epoch 17/50\n",
      "7352/7352 [==============================] - 0s 31us/step - loss: 0.0649 - acc: 0.9781 - val_loss: 0.1479 - val_acc: 0.9617\n",
      "Epoch 18/50\n",
      "7352/7352 [==============================] - 0s 29us/step - loss: 0.0637 - acc: 0.9805 - val_loss: 0.1366 - val_acc: 0.9657\n",
      "Epoch 19/50\n",
      "7352/7352 [==============================] - 0s 27us/step - loss: 0.0646 - acc: 0.9804 - val_loss: 0.1374 - val_acc: 0.9627\n",
      "Epoch 20/50\n",
      "7352/7352 [==============================] - 0s 26us/step - loss: 0.0596 - acc: 0.9803 - val_loss: 0.1395 - val_acc: 0.9627\n",
      "Epoch 21/50\n",
      "7352/7352 [==============================] - 0s 27us/step - loss: 0.0574 - acc: 0.9816 - val_loss: 0.1400 - val_acc: 0.9671\n",
      "Epoch 22/50\n",
      "7352/7352 [==============================] - 0s 30us/step - loss: 0.0648 - acc: 0.9797 - val_loss: 0.1433 - val_acc: 0.9647\n",
      "Epoch 23/50\n",
      "7352/7352 [==============================] - 0s 28us/step - loss: 0.0542 - acc: 0.9816 - val_loss: 0.1485 - val_acc: 0.9620\n",
      "Epoch 24/50\n",
      "7352/7352 [==============================] - 0s 27us/step - loss: 0.0608 - acc: 0.9803 - val_loss: 0.1554 - val_acc: 0.9610\n",
      "Epoch 25/50\n",
      "7352/7352 [==============================] - 0s 27us/step - loss: 0.0555 - acc: 0.9822 - val_loss: 0.1472 - val_acc: 0.9637\n",
      "Epoch 26/50\n",
      "7352/7352 [==============================] - 0s 26us/step - loss: 0.0559 - acc: 0.9807 - val_loss: 0.1524 - val_acc: 0.9593\n",
      "Epoch 27/50\n",
      "7352/7352 [==============================] - 0s 35us/step - loss: 0.0571 - acc: 0.9799 - val_loss: 0.1411 - val_acc: 0.9650\n",
      "Epoch 28/50\n",
      "7352/7352 [==============================] - 0s 28us/step - loss: 0.0594 - acc: 0.9810 - val_loss: 0.1347 - val_acc: 0.9674\n",
      "Epoch 29/50\n",
      "7352/7352 [==============================] - 0s 29us/step - loss: 0.0546 - acc: 0.9805 - val_loss: 0.1612 - val_acc: 0.9613\n",
      "Epoch 30/50\n",
      "7352/7352 [==============================] - 0s 26us/step - loss: 0.0571 - acc: 0.9815 - val_loss: 0.1388 - val_acc: 0.9657\n",
      "Epoch 31/50\n",
      "7352/7352 [==============================] - 0s 36us/step - loss: 0.0545 - acc: 0.9826 - val_loss: 0.1661 - val_acc: 0.9593\n",
      "Epoch 32/50\n",
      "7352/7352 [==============================] - 0s 34us/step - loss: 0.0536 - acc: 0.9831 - val_loss: 0.1487 - val_acc: 0.9647\n",
      "Epoch 33/50\n",
      "7352/7352 [==============================] - 0s 41us/step - loss: 0.0584 - acc: 0.9827 - val_loss: 0.1480 - val_acc: 0.9637\n",
      "Epoch 34/50\n",
      "7352/7352 [==============================] - 0s 45us/step - loss: 0.0523 - acc: 0.9820 - val_loss: 0.1490 - val_acc: 0.9613\n",
      "Epoch 35/50\n",
      "7352/7352 [==============================] - 0s 39us/step - loss: 0.0538 - acc: 0.9829 - val_loss: 0.1456 - val_acc: 0.9661\n",
      "Epoch 36/50\n",
      "7352/7352 [==============================] - 0s 36us/step - loss: 0.0518 - acc: 0.9819 - val_loss: 0.1502 - val_acc: 0.9640\n",
      "Epoch 37/50\n",
      "7352/7352 [==============================] - 0s 33us/step - loss: 0.0574 - acc: 0.9812 - val_loss: 0.1556 - val_acc: 0.9630\n",
      "Epoch 38/50\n",
      "7352/7352 [==============================] - 0s 46us/step - loss: 0.0528 - acc: 0.9819 - val_loss: 0.1508 - val_acc: 0.9613\n",
      "Epoch 39/50\n",
      "7352/7352 [==============================] - 0s 39us/step - loss: 0.0502 - acc: 0.9839 - val_loss: 0.1633 - val_acc: 0.9620\n",
      "Epoch 40/50\n",
      "7352/7352 [==============================] - 0s 34us/step - loss: 0.0518 - acc: 0.9835 - val_loss: 0.1715 - val_acc: 0.9600\n",
      "Epoch 41/50\n",
      "7352/7352 [==============================] - 0s 32us/step - loss: 0.0551 - acc: 0.9834 - val_loss: 0.1562 - val_acc: 0.9627\n",
      "Epoch 42/50\n",
      "7352/7352 [==============================] - 0s 27us/step - loss: 0.0555 - acc: 0.9812 - val_loss: 0.1590 - val_acc: 0.9613\n",
      "Epoch 43/50\n",
      "7352/7352 [==============================] - 0s 30us/step - loss: 0.0554 - acc: 0.9820 - val_loss: 0.1398 - val_acc: 0.9644\n",
      "Epoch 44/50\n",
      "7352/7352 [==============================] - 0s 31us/step - loss: 0.0505 - acc: 0.9831 - val_loss: 0.1545 - val_acc: 0.9627\n",
      "Epoch 45/50\n",
      "7352/7352 [==============================] - 0s 29us/step - loss: 0.0490 - acc: 0.9849 - val_loss: 0.1517 - val_acc: 0.9630\n",
      "Epoch 46/50\n",
      "7352/7352 [==============================] - 0s 30us/step - loss: 0.0533 - acc: 0.9831 - val_loss: 0.1692 - val_acc: 0.9596\n",
      "Epoch 47/50\n",
      "7352/7352 [==============================] - 0s 32us/step - loss: 0.0510 - acc: 0.9823 - val_loss: 0.1536 - val_acc: 0.9647\n",
      "Epoch 48/50\n",
      "7352/7352 [==============================] - 0s 29us/step - loss: 0.0478 - acc: 0.9846 - val_loss: 0.1549 - val_acc: 0.9627\n",
      "Epoch 49/50\n",
      "7352/7352 [==============================] - 0s 39us/step - loss: 0.0502 - acc: 0.9820 - val_loss: 0.1634 - val_acc: 0.9600\n",
      "Epoch 50/50\n",
      "7352/7352 [==============================] - 0s 30us/step - loss: 0.0528 - acc: 0.9833 - val_loss: 0.1652 - val_acc: 0.9613\n"
     ]
    }
   ],
   "source": [
    "history = model.fit(X_train,y_train,epochs=50,batch_size=128,validation_data=(X_test, y_test))"
   ]
  },
  {
   "cell_type": "code",
   "execution_count": null,
   "metadata": {},
   "outputs": [],
   "source": []
  }
 ],
 "metadata": {
  "kernelspec": {
   "display_name": "Python 3",
   "language": "python",
   "name": "python3"
  },
  "language_info": {
   "codemirror_mode": {
    "name": "ipython",
    "version": 3
   },
   "file_extension": ".py",
   "mimetype": "text/x-python",
   "name": "python",
   "nbconvert_exporter": "python",
   "pygments_lexer": "ipython3",
   "version": "3.6.8"
  }
 },
 "nbformat": 4,
 "nbformat_minor": 2
}
